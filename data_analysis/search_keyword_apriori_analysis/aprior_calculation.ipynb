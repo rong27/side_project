{
 "cells": [
  {
   "attachments": {},
   "cell_type": "markdown",
   "metadata": {},
   "source": [
    "### **計算支持度 (Support)**"
   ]
  },
  {
   "cell_type": "code",
   "execution_count": 7,
   "metadata": {},
   "outputs": [
    {
     "name": "stdout",
     "output_type": "stream",
     "text": [
      "support A B: 0.4\n",
      "support A C: 0.4\n",
      "support A D: 0.2\n",
      "support B C: 0.4\n",
      "support B D: 0.2\n",
      "support C D: 0.4\n"
     ]
    }
   ],
   "source": [
    "# all products set\n",
    "item_set = ('A', 'B', 'C', 'D')\n",
    "\n",
    "# list of transaction set, each set represents each transaction bought products\n",
    "transaction_set = [\n",
    "    ('A', 'B'),\n",
    "    ('A', 'B', 'C'),\n",
    "    ('B', 'C', 'D'),\n",
    "    ('A', 'C', 'D'),\n",
    "    ('C')\n",
    "]\n",
    "\n",
    "# A, B appear in the same time twice...\n",
    "support_ab = 2/5 \n",
    "support_ac = 2/5\n",
    "support_ad = 1/5\n",
    "support_bc = 2/5\n",
    "support_bd = 1/5\n",
    "support_cd = 2/5\n",
    "\n",
    "print(f'support A B: {support_ab}\\nsupport A C: {support_ac}\\nsupport A D: {support_ad}\\nsupport B C: {support_bc}\\nsupport B D: {support_bd}\\nsupport C D: {support_cd}')"
   ]
  },
  {
   "attachments": {},
   "cell_type": "markdown",
   "metadata": {},
   "source": [
    "### **計算信賴度 (Confidence)**"
   ]
  },
  {
   "cell_type": "code",
   "execution_count": 11,
   "metadata": {},
   "outputs": [
    {
     "name": "stdout",
     "output_type": "stream",
     "text": [
      "confidence A B: 0.67\n",
      "confidence A C: 0.67\n",
      "confidence A D: 0.33\n",
      "confidence B C: 0.67\n",
      "confidence B D: 0.33\n",
      "confidence C D: 0.50\n"
     ]
    }
   ],
   "source": [
    "# all products set\n",
    "item_set = ('A', 'B', 'C', 'D')\n",
    "\n",
    "# list of transaction set, each set represents each transaction bought products\n",
    "transaction_set = [\n",
    "    ('A', 'B'),\n",
    "    ('A', 'B', 'C'),\n",
    "    ('B', 'C', 'D'),\n",
    "    ('A', 'C', 'D'),\n",
    "    ('C')\n",
    "]\n",
    "\n",
    "#  P(買 A 商品 ∩ 買 B 商品) / P(買 A 商品)，\n",
    "# 分母為 A 於所有交易中出現的機率 3 / 5\n",
    "# A 和 B 同時出現機率為 2 / 5 \n",
    "\n",
    "confidence_ab = (2/5) / (3/5)\n",
    "confidence_ac = (2/5) / (3/5)\n",
    "confidence_ad = (1/5) / (3/5)\n",
    "confidence_bc = (2/5) / (3/5)\n",
    "confidence_bd = (1/5) / (3/5)\n",
    "confidence_cd = (2/5) / (4/5)\n",
    "\n",
    "print(\n",
    "    f'confidence A B: {confidence_ab:.2f}\\n'\n",
    "    f'confidence A C: {confidence_ac:.2f}\\n'\n",
    "    f'confidence A D: {confidence_ad:.2f}\\n'\n",
    "    f'confidence B C: {confidence_bc:.2f}\\n'\n",
    "    f'confidence B D: {confidence_bd:.2f}\\n'\n",
    "    f'confidence C D: {confidence_cd:.2f}'\n",
    ")\n"
   ]
  },
  {
   "attachments": {},
   "cell_type": "markdown",
   "metadata": {},
   "source": [
    "### **使用 Apriori 關聯分析演算法**"
   ]
  },
  {
   "cell_type": "code",
   "execution_count": 20,
   "metadata": {},
   "outputs": [
    {
     "name": "stdout",
     "output_type": "stream",
     "text": [
      "<class 'list'>\n",
      "[{D} -> {C}]\n"
     ]
    }
   ],
   "source": [
    "from efficient_apriori import apriori\n",
    "\n",
    "# all products set\n",
    "item_set = ('A', 'B', 'C', 'D')\n",
    "\n",
    "# list of transaction set, each set represents each transaction bought products\n",
    "transaction_set = [\n",
    "    ('A', 'B'),\n",
    "    ('A', 'B', 'C'),\n",
    "    ('B', 'C', 'D'),\n",
    "    ('A', 'C', 'D'),\n",
    "    ('C')\n",
    "]\n",
    "\n",
    "# define min support 0.4, min confidence 0.7\n",
    "itemsets, rules = apriori(transaction_set, min_support=0.4, min_confidence=0.7)\n",
    "\n",
    "print(rules)"
   ]
  },
  {
   "attachments": {},
   "cell_type": "markdown",
   "metadata": {},
   "source": [
    "**結論: 推測買 D 商品的人會買 C 商品，所以 D 和 C 可以一起搭配活動或陳列在一起**"
   ]
  },
  {
   "cell_type": "code",
   "execution_count": 47,
   "metadata": {},
   "outputs": [
    {
     "name": "stdout",
     "output_type": "stream",
     "text": [
      "關聯式分析規則為: [{C} -> {B}, {B} -> {C}]\n"
     ]
    }
   ],
   "source": [
    "import pymysql\n",
    "import pandas as pd\n",
    "from efficient_apriori import apriori\n",
    "\n",
    "connection = pymysql.connect(host='localhost',\n",
    "                             user='root',\n",
    "                             password='',\n",
    "                             port=3307,\n",
    "                             db='demo_shop_logs',\n",
    "                             charset='utf8mb4',\n",
    "                             cursorclass=pymysql.cursors.DictCursor)\n",
    "\n",
    "try:\n",
    "    with connection.cursor() as cursor:\n",
    "        sql = 'SELECT * FROM user_order_logs'\n",
    "        cursor.execute(sql)\n",
    "        items = cursor.fetchall()\n",
    "\n",
    "finally:\n",
    "    connection.close()\n",
    "\n",
    "# change to dataframe\n",
    "df_items = pd.DataFrame(items)\n",
    "group_by_order_id = df_items.groupby('order_id')['product_id'].apply(list)\n",
    "\n",
    "transaction = []\n",
    "for set_product_id in group_by_order_id:\n",
    "    transaction.append(set(set_product_id))\n",
    "\n",
    "itemsets, rules = apriori(transaction, min_support=0.4, min_confidence=0.7)\n",
    "print(f'關聯式分析規則為: {rules}')"
   ]
  },
  {
   "attachments": {},
   "cell_type": "markdown",
   "metadata": {},
   "source": [
    "**結論: 推測買 C 商品的人會買 B 商品，買 B 商品的人也會買 C 商品，所以 B 和 C 可以一起搭配活動或陳列在一起**"
   ]
  }
 ],
 "metadata": {
  "kernelspec": {
   "display_name": "base",
   "language": "python",
   "name": "python3"
  },
  "language_info": {
   "codemirror_mode": {
    "name": "ipython",
    "version": 3
   },
   "file_extension": ".py",
   "mimetype": "text/x-python",
   "name": "python",
   "nbconvert_exporter": "python",
   "pygments_lexer": "ipython3",
   "version": "3.9.13"
  },
  "orig_nbformat": 4
 },
 "nbformat": 4,
 "nbformat_minor": 2
}
